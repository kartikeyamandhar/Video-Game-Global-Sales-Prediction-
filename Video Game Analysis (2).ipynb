{
 "cells": [
  {
   "cell_type": "code",
   "execution_count": 45,
   "metadata": {},
   "outputs": [],
   "source": [
    "import findspark\n",
    "findspark.init()\n",
    "\n",
    "import pyspark\n",
    "from pyspark.sql.session import SparkSession\n",
    "from pyspark.sql.types import *\n",
    "from pyspark.ml.feature import StringIndexer, VectorAssembler\n",
    "from pyspark.ml import Pipeline\n",
    "from pyspark.sql.functions import col"
   ]
  },
  {
   "cell_type": "code",
   "execution_count": 46,
   "metadata": {},
   "outputs": [],
   "source": [
    "from pyspark.ml.feature import *\n",
    "from pyspark.sql.functions import *\n",
    "from pyspark.sql.types import *\n",
    "from pyspark import SparkContext, SparkConf\n",
    "from pyspark.sql import SQLContext\n",
    "from pyspark.ml.feature import *\n",
    "from pyspark.ml import Pipeline\n",
    "from pyspark.mllib.evaluation import MulticlassMetrics\n"
   ]
  },
  {
   "cell_type": "code",
   "execution_count": 47,
   "metadata": {},
   "outputs": [],
   "source": [
    "spark = SparkSession\\\n",
    "        .builder\\\n",
    "        .appName(\"Analysis\")\\\n",
    "        .getOrCreate()"
   ]
  },
  {
   "cell_type": "code",
   "execution_count": 48,
   "metadata": {},
   "outputs": [],
   "source": [
    "df = spark.read.csv(r\"C:\\Users\\Kartikeya Mandhar\\Desktop\\AWSMachineLearning\\vgsales.csv\",header=True,inferSchema=True)"
   ]
  },
  {
   "cell_type": "code",
   "execution_count": 49,
   "metadata": {},
   "outputs": [],
   "source": [
    "df = df.na.fill(0)"
   ]
  },
  {
   "cell_type": "markdown",
   "metadata": {},
   "source": [
    "Due to computational power constraints, we will be taking video game publications published after 2005, and dropping all the unnecessary columns"
   ]
  },
  {
   "cell_type": "code",
   "execution_count": 50,
   "metadata": {},
   "outputs": [],
   "source": [
    "df = df.drop('Name', 'NA_Sales', 'EU_Sales', 'JP_Sales', 'Other_Sales')\n",
    "df = df.filter(df.Year > 2005)\n",
    "df = df.withColumn(\"Year\", df[\"Year\"].cast(IntegerType()))"
   ]
  },
  {
   "cell_type": "code",
   "execution_count": 51,
   "metadata": {},
   "outputs": [
    {
     "name": "stdout",
     "output_type": "stream",
     "text": [
      "+----+--------+----+------------+--------------------+------------+\n",
      "|Rank|Platform|Year|       Genre|           Publisher|Global_Sales|\n",
      "+----+--------+----+------------+--------------------+------------+\n",
      "|   1|     Wii|2006|      Sports|            Nintendo|       82.74|\n",
      "|   3|     Wii|2008|      Racing|            Nintendo|       35.82|\n",
      "|   4|     Wii|2009|      Sports|            Nintendo|        33.0|\n",
      "|   7|      DS|2006|    Platform|            Nintendo|       30.01|\n",
      "|   8|     Wii|2006|        Misc|            Nintendo|       29.02|\n",
      "|   9|     Wii|2009|    Platform|            Nintendo|       28.62|\n",
      "|  14|     Wii|2007|      Sports|            Nintendo|       22.72|\n",
      "|  15|     Wii|2009|      Sports|            Nintendo|        22.0|\n",
      "|  16|    X360|2010|        Misc|Microsoft Game St...|       21.82|\n",
      "|  17|     PS3|2013|      Action|Take-Two Interactive|        21.4|\n",
      "|  21|      DS|2006|Role-Playing|            Nintendo|       18.36|\n",
      "|  24|    X360|2013|      Action|Take-Two Interactive|       16.38|\n",
      "|  27|      DS|2010|Role-Playing|            Nintendo|       15.32|\n",
      "|  30|    X360|2011|     Shooter|          Activision|       14.76|\n",
      "|  32|    X360|2010|     Shooter|          Activision|       14.64|\n",
      "|  33|     3DS|2013|Role-Playing|            Nintendo|       14.35|\n",
      "|  34|     PS4|2015|     Shooter|          Activision|       14.24|\n",
      "|  35|     PS3|2012|     Shooter|          Activision|       14.03|\n",
      "|  36|    X360|2012|     Shooter|          Activision|       13.73|\n",
      "|  37|    X360|2009|     Shooter|          Activision|       13.51|\n",
      "+----+--------+----+------------+--------------------+------------+\n",
      "only showing top 20 rows\n",
      "\n"
     ]
    },
    {
     "data": {
      "text/plain": [
       "10214"
      ]
     },
     "execution_count": 51,
     "metadata": {},
     "output_type": "execute_result"
    }
   ],
   "source": [
    "df.show()\n",
    "df.count()"
   ]
  },
  {
   "cell_type": "code",
   "execution_count": 52,
   "metadata": {},
   "outputs": [],
   "source": [
    "df2 = df.groupBy(\"Publisher\").count().orderBy(\"Count\")\n",
    "df2 = df2.withColumnRenamed(\"Publisher\",\"Publisher1\")\n",
    "df3 = df2.join(df,df.Publisher == df2.Publisher1)\n",
    "df3 = df3.drop(\"Publisher1\")\n",
    "\n"
   ]
  },
  {
   "cell_type": "code",
   "execution_count": 53,
   "metadata": {},
   "outputs": [],
   "source": [
    "df3 = df3.withColumn(\"Publisher\",when(df3[\"count\"] < 50,\"Small Publisher\").otherwise(df3.Publisher))\n",
    "df3 = df3.drop('count')"
   ]
  },
  {
   "cell_type": "code",
   "execution_count": 54,
   "metadata": {},
   "outputs": [
    {
     "name": "stdout",
     "output_type": "stream",
     "text": [
      "+----+--------+----+------------+--------------------+------------+\n",
      "|Rank|Platform|Year|       Genre|           Publisher|Global_Sales|\n",
      "+----+--------+----+------------+--------------------+------------+\n",
      "|   1|     Wii|2006|      Sports|            Nintendo|       82.74|\n",
      "|   3|     Wii|2008|      Racing|            Nintendo|       35.82|\n",
      "|   4|     Wii|2009|      Sports|            Nintendo|        33.0|\n",
      "|   7|      DS|2006|    Platform|            Nintendo|       30.01|\n",
      "|   8|     Wii|2006|        Misc|            Nintendo|       29.02|\n",
      "|   9|     Wii|2009|    Platform|            Nintendo|       28.62|\n",
      "|  14|     Wii|2007|      Sports|            Nintendo|       22.72|\n",
      "|  15|     Wii|2009|      Sports|            Nintendo|        22.0|\n",
      "|  16|    X360|2010|        Misc|Microsoft Game St...|       21.82|\n",
      "|  17|     PS3|2013|      Action|Take-Two Interactive|        21.4|\n",
      "|  21|      DS|2006|Role-Playing|            Nintendo|       18.36|\n",
      "|  24|    X360|2013|      Action|Take-Two Interactive|       16.38|\n",
      "|  27|      DS|2010|Role-Playing|            Nintendo|       15.32|\n",
      "|  30|    X360|2011|     Shooter|          Activision|       14.76|\n",
      "|  32|    X360|2010|     Shooter|          Activision|       14.64|\n",
      "|  33|     3DS|2013|Role-Playing|            Nintendo|       14.35|\n",
      "|  34|     PS4|2015|     Shooter|          Activision|       14.24|\n",
      "|  35|     PS3|2012|     Shooter|          Activision|       14.03|\n",
      "|  36|    X360|2012|     Shooter|          Activision|       13.73|\n",
      "|  37|    X360|2009|     Shooter|          Activision|       13.51|\n",
      "+----+--------+----+------------+--------------------+------------+\n",
      "only showing top 20 rows\n",
      "\n"
     ]
    }
   ],
   "source": [
    "df3.show()"
   ]
  },
  {
   "cell_type": "code",
   "execution_count": 55,
   "metadata": {},
   "outputs": [],
   "source": [
    "\n",
    "platformIndexer = StringIndexer()\\\n",
    "  .setInputCol(\"Platform\")\\\n",
    "  .setOutputCol(\"PlatformIndex\")\\\n",
    "  .setHandleInvalid(\"keep\")\n",
    "\n",
    "    \n",
    "genreIndexer = StringIndexer()\\\n",
    "  .setInputCol(\"Genre\")\\\n",
    "  .setOutputCol(\"GenreIndex\")\\\n",
    "  .setHandleInvalid(\"keep\")\n",
    "\n",
    "    \n",
    "publisherIndexer = StringIndexer()\\\n",
    "  .setInputCol(\"Publisher\")\\\n",
    "  .setOutputCol(\"PublisherIndex\")\\\n",
    "  .setHandleInvalid(\"keep\")\n",
    "\n"
   ]
  },
  {
   "cell_type": "code",
   "execution_count": 56,
   "metadata": {},
   "outputs": [],
   "source": [
    "indexers = [StringIndexer(inputCol=\"Platform\", outputCol=\"PlatformIndex\") , StringIndexer(inputCol=\"Genre\", outputCol=\"GenreIndex\"), StringIndexer(inputCol=\"Publisher\", outputCol=\"PublisherIndex\")]\n",
    "pipeline = Pipeline(stages=indexers)\n",
    "df = pipeline.fit(df3).transform(df3)"
   ]
  },
  {
   "cell_type": "code",
   "execution_count": 57,
   "metadata": {},
   "outputs": [
    {
     "name": "stdout",
     "output_type": "stream",
     "text": [
      "+----+--------+----+------------+--------------------+------------+-------------+----------+--------------+\n",
      "|Rank|Platform|Year|       Genre|           Publisher|Global_Sales|PlatformIndex|GenreIndex|PublisherIndex|\n",
      "+----+--------+----+------------+--------------------+------------+-------------+----------+--------------+\n",
      "|   1|     Wii|2006|      Sports|            Nintendo|       82.74|          2.0|       1.0|           8.0|\n",
      "|   3|     Wii|2008|      Racing|            Nintendo|       35.82|          2.0|       7.0|           8.0|\n",
      "|   4|     Wii|2009|      Sports|            Nintendo|        33.0|          2.0|       1.0|           8.0|\n",
      "|   7|      DS|2006|    Platform|            Nintendo|       30.01|          0.0|      11.0|           8.0|\n",
      "|   8|     Wii|2006|        Misc|            Nintendo|       29.02|          2.0|       2.0|           8.0|\n",
      "|   9|     Wii|2009|    Platform|            Nintendo|       28.62|          2.0|      11.0|           8.0|\n",
      "|  14|     Wii|2007|      Sports|            Nintendo|       22.72|          2.0|       1.0|           8.0|\n",
      "|  15|     Wii|2009|      Sports|            Nintendo|        22.0|          2.0|       1.0|           8.0|\n",
      "|  16|    X360|2010|        Misc|Microsoft Game St...|       21.82|          3.0|       2.0|          23.0|\n",
      "|  17|     PS3|2013|      Action|Take-Two Interactive|        21.4|          1.0|       0.0|          10.0|\n",
      "|  21|      DS|2006|Role-Playing|            Nintendo|       18.36|          0.0|       4.0|           8.0|\n",
      "|  24|    X360|2013|      Action|Take-Two Interactive|       16.38|          3.0|       0.0|          10.0|\n",
      "|  27|      DS|2010|Role-Playing|            Nintendo|       15.32|          0.0|       4.0|           8.0|\n",
      "|  30|    X360|2011|     Shooter|          Activision|       14.76|          3.0|       5.0|           3.0|\n",
      "|  32|    X360|2010|     Shooter|          Activision|       14.64|          3.0|       5.0|           3.0|\n",
      "|  33|     3DS|2013|Role-Playing|            Nintendo|       14.35|          7.0|       4.0|           8.0|\n",
      "|  34|     PS4|2015|     Shooter|          Activision|       14.24|          9.0|       5.0|           3.0|\n",
      "|  35|     PS3|2012|     Shooter|          Activision|       14.03|          1.0|       5.0|           3.0|\n",
      "|  36|    X360|2012|     Shooter|          Activision|       13.73|          3.0|       5.0|           3.0|\n",
      "|  37|    X360|2009|     Shooter|          Activision|       13.51|          3.0|       5.0|           3.0|\n",
      "+----+--------+----+------------+--------------------+------------+-------------+----------+--------------+\n",
      "only showing top 20 rows\n",
      "\n"
     ]
    }
   ],
   "source": [
    "df.show()\n"
   ]
  },
  {
   "cell_type": "code",
   "execution_count": 58,
   "metadata": {},
   "outputs": [],
   "source": [
    "from pyspark.ml.regression import RandomForestRegressor"
   ]
  },
  {
   "cell_type": "code",
   "execution_count": 59,
   "metadata": {},
   "outputs": [],
   "source": [
    "vectorAssembler = VectorAssembler()\\\n",
    "  .setInputCols([\"Year\",\"PlatformIndex\",\"GenreIndex\",\"PublisherIndex\"])\\\n",
    "  .setOutputCol(\"features\")"
   ]
  },
  {
   "cell_type": "code",
   "execution_count": 60,
   "metadata": {},
   "outputs": [],
   "source": [
    "df = vectorAssembler.transform(df)"
   ]
  },
  {
   "cell_type": "code",
   "execution_count": 61,
   "metadata": {},
   "outputs": [],
   "source": [
    "df = df.select(\"Global_Sales\",\"features\")"
   ]
  },
  {
   "cell_type": "code",
   "execution_count": 62,
   "metadata": {},
   "outputs": [
    {
     "name": "stdout",
     "output_type": "stream",
     "text": [
      "Training Dataset Count: 8207\n",
      "Test Dataset Count: 2007\n"
     ]
    }
   ],
   "source": [
    "train, test = df.randomSplit([0.8, 0.2], seed = 2018)\n",
    "print(\"Training Dataset Count: \" + str(train.count()))\n",
    "print(\"Test Dataset Count: \" + str(test.count()))"
   ]
  },
  {
   "cell_type": "code",
   "execution_count": 63,
   "metadata": {},
   "outputs": [],
   "source": [
    "rf = RandomForestRegressor(featuresCol = 'features', labelCol = 'Global_Sales',numTrees=25,maxBins=100)"
   ]
  },
  {
   "cell_type": "code",
   "execution_count": 64,
   "metadata": {},
   "outputs": [],
   "source": [
    "model = rf.fit(train)"
   ]
  },
  {
   "cell_type": "code",
   "execution_count": 65,
   "metadata": {},
   "outputs": [],
   "source": [
    "result = model.transform(test)"
   ]
  },
  {
   "cell_type": "code",
   "execution_count": 66,
   "metadata": {},
   "outputs": [
    {
     "name": "stdout",
     "output_type": "stream",
     "text": [
      "+------------+--------------------+-------------------+\n",
      "|Global_Sales|            features|         prediction|\n",
      "+------------+--------------------+-------------------+\n",
      "|        0.01|    (4,[0],[2007.0])|0.13813981214879312|\n",
      "|        0.01|[2006.0,0.0,2.0,2.0]|0.13814761984447183|\n",
      "|        0.01|[2006.0,0.0,10.0,...|0.24853632212781795|\n",
      "|        0.01|[2006.0,0.0,10.0,...|0.24853632212781795|\n",
      "|        0.01|[2006.0,3.0,0.0,1.0]| 0.9480358247948972|\n",
      "|        0.01|[2006.0,3.0,9.0,0.0]| 0.1942444432586518|\n",
      "|        0.01|[2006.0,4.0,6.0,2...| 0.2197903583506686|\n",
      "|        0.01|[2006.0,5.0,2.0,1...| 0.1704898524445626|\n",
      "|        0.01|[2006.0,5.0,3.0,0.0]|0.08404503812005322|\n",
      "|        0.01|[2006.0,5.0,3.0,0.0]|0.08404503812005322|\n",
      "|        0.01|[2006.0,5.0,3.0,6.0]| 0.2661911625571377|\n",
      "|        0.01|[2006.0,5.0,5.0,1...|0.17820845075716474|\n",
      "|        0.01|[2006.0,6.0,2.0,4.0]|0.36978858920926094|\n",
      "|        0.01|[2007.0,0.0,2.0,1...| 0.1296529167255284|\n",
      "|        0.01|[2007.0,0.0,4.0,1...|0.28117256281800324|\n",
      "|        0.01|[2007.0,2.0,0.0,5.0]| 0.3589864681783946|\n",
      "|        0.01|[2007.0,2.0,0.0,1...| 0.5125624767997558|\n",
      "|        0.01|[2007.0,3.0,1.0,7.0]| 0.5867126977403659|\n",
      "|        0.01|[2007.0,4.0,1.0,1.0]| 0.4836159163606155|\n",
      "|        0.01|[2007.0,4.0,4.0,0.0]|0.12276856004650019|\n",
      "+------------+--------------------+-------------------+\n",
      "only showing top 20 rows\n",
      "\n"
     ]
    }
   ],
   "source": [
    "result.show()"
   ]
  },
  {
   "cell_type": "code",
   "execution_count": 67,
   "metadata": {},
   "outputs": [],
   "source": [
    "from pyspark.mllib.evaluation import RegressionMetrics\n",
    "from pyspark.ml.evaluation import RegressionEvaluator"
   ]
  },
  {
   "cell_type": "code",
   "execution_count": 68,
   "metadata": {},
   "outputs": [
    {
     "name": "stdout",
     "output_type": "stream",
     "text": [
      "Root Mean Squared Error (RMSE) on test data = 1.45559\n"
     ]
    }
   ],
   "source": [
    "evaluator = RegressionEvaluator(\n",
    "    labelCol=\"Global_Sales\", predictionCol=\"prediction\", metricName=\"rmse\")\n",
    "rmse = evaluator.evaluate(result)\n",
    "print(\"Root Mean Squared Error (RMSE) on test data = %g\" % rmse)\n"
   ]
  }
 ],
 "metadata": {
  "kernelspec": {
   "display_name": "Python 3",
   "language": "python",
   "name": "python3"
  },
  "language_info": {
   "codemirror_mode": {
    "name": "ipython",
    "version": 3
   },
   "file_extension": ".py",
   "mimetype": "text/x-python",
   "name": "python",
   "nbconvert_exporter": "python",
   "pygments_lexer": "ipython3",
   "version": "3.8.5"
  }
 },
 "nbformat": 4,
 "nbformat_minor": 4
}
